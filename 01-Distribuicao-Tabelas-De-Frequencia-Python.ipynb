{
 "cells": [
  {
   "cell_type": "markdown",
   "metadata": {},
   "source": [
    "## Distribuição de Frequência com Python\n"
   ]
  },
  {
   "cell_type": "markdown",
   "metadata": {},
   "source": [
    "Um professor coletou as notas de todos os alunos na avaliação final de um curso de Matemática. O professor gostaria de tabular os dados a fim de extrair insights e compreender como os dados estão organizados. Crie uma distribuição de frequência para ajudar o professor."
   ]
  },
  {
   "cell_type": "code",
   "execution_count": 1,
   "metadata": {},
   "outputs": [],
   "source": [
    "# Imports\n",
    "import pandas as pd"
   ]
  },
  {
   "cell_type": "code",
   "execution_count": 2,
   "metadata": {},
   "outputs": [],
   "source": [
    "# Criar lista de notas de alunos na avaliação final do curso de Matemática\n",
    "notas_alunos = [92, 81, 100, 92, 71, 73, 100, 92, 84, 100, 73, 92, 73, 84, 92, 92, 92, 84, 73, 100]"
   ]
  },
  {
   "cell_type": "code",
   "execution_count": 3,
   "metadata": {},
   "outputs": [
    {
     "data": {
      "text/plain": [
       "20"
      ]
     },
     "execution_count": 3,
     "metadata": {},
     "output_type": "execute_result"
    }
   ],
   "source": [
    "len(notas_alunos)\n",
    "# Verificar tamanho da lista de notas de alunos"
   ]
  },
  {
   "cell_type": "markdown",
   "metadata": {},
   "source": [
    "## Solução com Series em Pandas"
   ]
  },
  {
   "cell_type": "code",
   "execution_count": 4,
   "metadata": {},
   "outputs": [
    {
     "name": "stdout",
     "output_type": "stream",
     "text": [
      "   Nota  Frequencia\n",
      "0    71           1\n",
      "1    73           4\n",
      "2    81           1\n",
      "3    84           3\n",
      "4    92           7\n",
      "5   100           4\n"
     ]
    }
   ],
   "source": [
    "# Série - frequência de ocorrência por ntas\n",
    "df1 = pd.Series(notas_alunos).value_counts().reset_index().sort_values('index').reset_index(drop=True)\n",
    "df1.columns = ['Nota', 'Frequencia']\n",
    "print(df1)\n",
    "# 1.Chama a função series, passa a lista de notas como parâmetro\n",
    "#   2.value_counts() fará a contagem da lista, contabilizar quantas vezes cada nota aparece\n",
    "#     3.reset_index() garantir índices na sequência correta.\n",
    "#      4.sort_values('index') order pelo valor do índice\n",
    "#       5.reset_index() resetar novamente o índice.\n",
    "#         6.objeto.columns renomear colunas"
   ]
  },
  {
   "cell_type": "code",
   "execution_count": 5,
   "metadata": {},
   "outputs": [
    {
     "name": "stdout",
     "output_type": "stream",
     "text": [
      "               Nota  Frequencia\n",
      "0   (70.97, 80.667]           5\n",
      "1  (80.667, 90.333]           4\n",
      "2   (90.333, 100.0]          11\n"
     ]
    }
   ],
   "source": [
    "# Série com notas e frequências, alterando a quantidade de classes com parâmetro bins dentro de value_counts\n",
    "df1 = pd.Series(notas_alunos).value_counts(bins=3).reset_index().sort_values('index').reset_index(drop=True)\n",
    "df1.columns = ['Nota', 'Frequencia']\n",
    "print(df1)\n",
    "# A saída dessa série tem apenas 3 registros, especificando 3 classes na contagem"
   ]
  },
  {
   "cell_type": "markdown",
   "metadata": {},
   "source": [
    "## Solução com Dataframes em Pandas"
   ]
  },
  {
   "cell_type": "markdown",
   "metadata": {},
   "source": [
    "### Distribuição de Frequência Simples ou Absoluta - fi "
   ]
  },
  {
   "cell_type": "markdown",
   "metadata": {},
   "source": [
    "São os valores que representam o número de dados de cada classe. A soma das frequências simples é igual ao número total dos dados.\n"
   ]
  },
  {
   "cell_type": "code",
   "execution_count": 6,
   "metadata": {},
   "outputs": [
    {
     "name": "stdout",
     "output_type": "stream",
     "text": [
      "      fi\n",
      "Nota    \n",
      "71     1\n",
      "73     4\n",
      "81     1\n",
      "84     3\n",
      "92     7\n",
      "100    4\n"
     ]
    }
   ],
   "source": [
    "df2 = pd.value_counts(notas_alunos).to_frame(name='fi').rename_axis('Nota').sort_index()\n",
    "print(df2)\n",
    "#1. pandas\n",
    "# 2.contagem das notas .value_counts(lista)\n",
    "#  3.converter para dataframe .to_frame(sendo nome da coluna='fi')\n",
    "#   4.colocar um eixo para nota .rename_axis('Nota')\n",
    "#    5.ordernar por índice sort_index()\n"
   ]
  },
  {
   "cell_type": "markdown",
   "metadata": {},
   "source": [
    "### Distribuição de Frequência Relativa Simples -  % fri "
   ]
  },
  {
   "cell_type": "markdown",
   "metadata": {},
   "source": [
    "Permite visualizar os valores das razões entre as Frequências Simples e a Frequência Total."
   ]
  },
  {
   "cell_type": "code",
   "execution_count": 7,
   "metadata": {},
   "outputs": [
    {
     "name": "stdout",
     "output_type": "stream",
     "text": [
      "      fi   fri\n",
      "Nota          \n",
      "71     1  0.05\n",
      "73     4  0.20\n",
      "81     1  0.05\n",
      "84     3  0.15\n",
      "92     7  0.35\n",
      "100    4  0.20\n"
     ]
    }
   ],
   "source": [
    "df2['fri'] = pd.value_counts(notas_alunos) / len(notas_alunos)\n",
    "print(df2)\n",
    "#1. pandas\n",
    "# 2. contagem das notas .value_counts(lista)\n",
    "#  3. dividir por total de observações len(lista)\n",
    "#   4. salvar em uma nova coluna chama 'fri' no dataframe df2"
   ]
  },
  {
   "cell_type": "markdown",
   "metadata": {},
   "source": [
    "### Distribuição de Frequência Acumulada -  Fi "
   ]
  },
  {
   "cell_type": "markdown",
   "metadata": {},
   "source": [
    "Permite visualizar o total das Frequências de todos os valores inferiores ao limite superior do intervalo de uma dada classe."
   ]
  },
  {
   "cell_type": "code",
   "execution_count": 8,
   "metadata": {},
   "outputs": [
    {
     "name": "stdout",
     "output_type": "stream",
     "text": [
      "      fi   fri  Fi\n",
      "Nota              \n",
      "71     1  0.05   1\n",
      "73     4  0.20   5\n",
      "81     1  0.05   6\n",
      "84     3  0.15   9\n",
      "92     7  0.35  16\n",
      "100    4  0.20  20\n"
     ]
    }
   ],
   "source": [
    "df2['Fi'] = df2.fi.cumsum()\n",
    "print(df2)\n",
    "#1. chamar método cumsum()- soma acumulada\n",
    " #2. aplicar a uma nova coluna chamada 'fi' no dataframe df2"
   ]
  },
  {
   "cell_type": "markdown",
   "metadata": {},
   "source": [
    "### Distribuição de Frequência Relativa Acumulada -  Fri "
   ]
  },
  {
   "cell_type": "markdown",
   "metadata": {},
   "source": [
    "Permite visualizar a frequência acumulada da classe, dividida pela frequência total da distribuição."
   ]
  },
  {
   "cell_type": "code",
   "execution_count": 9,
   "metadata": {},
   "outputs": [
    {
     "name": "stdout",
     "output_type": "stream",
     "text": [
      "      fi   fri  Fi   Fri\n",
      "Nota                    \n",
      "71     1  0.05   1  0.05\n",
      "73     4  0.20   5  0.25\n",
      "81     1  0.05   6  0.30\n",
      "84     3  0.15   9  0.45\n",
      "92     7  0.35  16  0.80\n",
      "100    4  0.20  20  1.00\n"
     ]
    }
   ],
   "source": [
    "# Temos a frequência relativa acumulada, pegar o percentual da frequência acumulada\n",
    "df2['Fri'] = df2.fi.cumsum() / len(notas_alunos)\n",
    "print(df2)\n",
    "# 1.aplicando valor da soma acumulada\n",
    "#  2.dividir pelo comprimento da lsita \n",
    "#   3.atibuir para nova coluna 'Fri' novamente ao dataframe df2\n",
    "\n",
    "# Cada classe é uma nota\n",
    "# fi - frequência, número de ocorrências\n",
    "# fri - frequência relativa simples, percentual\n",
    "# FI - frequência acumulada, valor total das frequências de cada classe\n",
    "# Fri - frquência acumulada simples, valor percentual\n",
    "\n"
   ]
  }
 ],
 "metadata": {
  "anaconda-cloud": {},
  "kernelspec": {
   "display_name": "Python 3",
   "language": "python",
   "name": "python3"
  },
  "language_info": {
   "codemirror_mode": {
    "name": "ipython",
    "version": 3
   },
   "file_extension": ".py",
   "mimetype": "text/x-python",
   "name": "python",
   "nbconvert_exporter": "python",
   "pygments_lexer": "ipython3",
   "version": "3.7.6"
  }
 },
 "nbformat": 4,
 "nbformat_minor": 1
}
